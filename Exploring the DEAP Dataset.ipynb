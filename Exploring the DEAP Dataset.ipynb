{
 "cells": [
  {
   "cell_type": "markdown",
   "metadata": {},
   "source": [
    "# DEAP Dataset Preliminary Exploration\n",
    "\n",
    "In this notebook we intend to explore the preprocessed python files of the DEAP dataset and run some simple analyses"
   ]
  },
  {
   "cell_type": "code",
   "execution_count": 1,
   "metadata": {},
   "outputs": [
    {
     "name": "stdout",
     "output_type": "stream",
     "text": [
      "<type 'dict'>\n",
      "(40, 4)\n",
      "(40, 40, 8064)\n"
     ]
    }
   ],
   "source": [
    "# DEAP preprocessed data construction\n",
    "# Lets get a brief overview of one piece of data\n",
    "# The data is cut up into 32 pieces each with their own dat file loadable via pickle\n",
    "\n",
    "import cPickle\n",
    "x = cPickle.load(open('deap_data/data_preprocessed_python/s01.dat', 'rb'))\n",
    "print type(x)\n",
    "print x['labels'].shape\n",
    "print x['data'].shape"
   ]
  },
  {
   "cell_type": "markdown",
   "metadata": {},
   "source": [
    "The data looks as follows:\n",
    "\n",
    "| Array name | Array shape |\tArray contents |\n",
    "| ----------- | ----------- | ------------------| \n",
    "| data | 40 x 40 x 8064 |\tvideo/trial x channel x data | \n",
    "| labels | 40 x 4 |video/trial x label (valence, arousal, dominance, liking) |\n",
    "\n",
    "\n",
    "1. The data was downsampled to 128Hz.\n",
    "2. EOG artefacts were removed as in [1].\n",
    "3. A bandpass frequency filter from 4.0-45.0Hz was applied.\n",
    "4. The data was averaged to the common reference.\n",
    "5. The EEG channels were reordered so that they all follow the Geneva order as above.\n",
    "6. The data was segmented into 60 second trials and a 3 second pre-trial baseline removed.\n",
    "7. The trials were reordered from presentation order to video (Experiment_id) order."
   ]
  },
  {
   "cell_type": "code",
   "execution_count": null,
   "metadata": {},
   "outputs": [],
   "source": []
  }
 ],
 "metadata": {
  "kernelspec": {
   "display_name": "Python 2",
   "language": "python",
   "name": "python2"
  },
  "language_info": {
   "codemirror_mode": {
    "name": "ipython",
    "version": 2
   },
   "file_extension": ".py",
   "mimetype": "text/x-python",
   "name": "python",
   "nbconvert_exporter": "python",
   "pygments_lexer": "ipython2",
   "version": "2.7.12"
  }
 },
 "nbformat": 4,
 "nbformat_minor": 2
}

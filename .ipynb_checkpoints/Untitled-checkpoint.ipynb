{
 "cells": [
  {
   "cell_type": "code",
   "execution_count": 49,
   "metadata": {},
   "outputs": [
    {
     "ename": "NameError",
     "evalue": "name 'pi' is not defined",
     "output_type": "error",
     "traceback": [
      "\u001b[0;31m---------------------------------------------------------------------------\u001b[0m",
      "\u001b[0;31mNameError\u001b[0m                                 Traceback (most recent call last)",
      "\u001b[0;32m<ipython-input-49-7602ea2f1029>\u001b[0m in \u001b[0;36m<module>\u001b[0;34m()\u001b[0m\n\u001b[1;32m     17\u001b[0m \u001b[0;34m\u001b[0m\u001b[0m\n\u001b[1;32m     18\u001b[0m \u001b[0;32mfor\u001b[0m \u001b[0mband\u001b[0m \u001b[0;32min\u001b[0m \u001b[0mxrange\u001b[0m\u001b[0;34m(\u001b[0m\u001b[0;36m0\u001b[0m\u001b[0;34m,\u001b[0m \u001b[0mlen\u001b[0m\u001b[0;34m(\u001b[0m\u001b[0mcutoff\u001b[0m\u001b[0;34m)\u001b[0m\u001b[0;34m-\u001b[0m\u001b[0;36m1\u001b[0m\u001b[0;34m)\u001b[0m\u001b[0;34m:\u001b[0m\u001b[0;34m\u001b[0m\u001b[0m\n\u001b[0;32m---> 19\u001b[0;31m   \u001b[0mwl\u001b[0m \u001b[0;34m=\u001b[0m \u001b[0;36m2\u001b[0m\u001b[0;34m*\u001b[0m\u001b[0mcutoff\u001b[0m\u001b[0;34m[\u001b[0m\u001b[0mband\u001b[0m\u001b[0;34m]\u001b[0m\u001b[0;34m/\u001b[0m\u001b[0mfs\u001b[0m\u001b[0;34m*\u001b[0m\u001b[0mpi\u001b[0m\u001b[0;34m\u001b[0m\u001b[0m\n\u001b[0m\u001b[1;32m     20\u001b[0m   \u001b[0mwh\u001b[0m \u001b[0;34m=\u001b[0m \u001b[0;36m2\u001b[0m\u001b[0;34m*\u001b[0m\u001b[0mcutoff\u001b[0m\u001b[0;34m[\u001b[0m\u001b[0mband\u001b[0m\u001b[0;34m+\u001b[0m\u001b[0;36m1\u001b[0m\u001b[0;34m]\u001b[0m\u001b[0;34m/\u001b[0m\u001b[0mfs\u001b[0m\u001b[0;34m*\u001b[0m\u001b[0mpi\u001b[0m\u001b[0;34m\u001b[0m\u001b[0m\n\u001b[1;32m     21\u001b[0m   \u001b[0mM\u001b[0m \u001b[0;34m=\u001b[0m \u001b[0;36m512\u001b[0m      \u001b[0;31m# Set number of weights as 128\u001b[0m\u001b[0;34m\u001b[0m\u001b[0m\n",
      "\u001b[0;31mNameError\u001b[0m: name 'pi' is not defined"
     ]
    }
   ],
   "source": [
    "import numpy as np\n",
    "\n",
    "eeg = np.random.uniform(4, 45, 8064)  \n",
    "pi = 3.14\n",
    "y = np.array(eeg)  # faster array\n",
    "L = len(eeg)       # signal length\n",
    "fs = 128.0         # frequency sampling 128Hz\n",
    "T = 1/fs           # sample time\n",
    "t = np.linspace(1,L,L)*T\n",
    "\n",
    "f = fs*np.linspace(0,L/10,L/10)/L  # single side frequency vector, real frequency up to fs/2\n",
    "Y = np.fft.fft(y)\n",
    "\n",
    "filtered = []\n",
    "b= [] # store filter coefficient\n",
    "cutoff = [0.5,4.0,8.0,12.0,30.0] # delta, alpha, theta, beta bands\n",
    "\n",
    "for band in xrange(0, len(cutoff)-1):\n",
    "  wl = 2*cutoff[band]/fs*pi\n",
    "  wh = 2*cutoff[band+1]/fs*pi\n",
    "  M = 512      # Set number of weights as 128\n",
    "  bn = zeros(M)\n",
    "\n",
    "  for i in xrange(0,M):     # Generate bandpass weighting function\n",
    "    n = i-  M/2       # Make symmetrical\n",
    "    if n == 0:\n",
    "      bn[i] = wh/pi - wl/pi;\n",
    "    else:\n",
    "      bn[i] = (sin(wh*n))/(pi*n) - (sin(wl*n))/(pi*n)   # Filter impulse response\n",
    "\n",
    "  bn = bn*kaiser(M,5.2)  # apply Kaiser window, alpha= 5.2\n",
    "  b.append(bn)\n",
    "\n",
    "  [w,h]=freqz(bn,1)\n",
    "  filtered.append(convolve(bn, y)) # filter the signal by convolving the signal with filter coefficients\n",
    "\n"
   ]
  },
  {
   "cell_type": "code",
   "execution_count": null,
   "metadata": {},
   "outputs": [],
   "source": []
  }
 ],
 "metadata": {
  "kernelspec": {
   "display_name": "Python 2",
   "language": "python",
   "name": "python2"
  },
  "language_info": {
   "codemirror_mode": {
    "name": "ipython",
    "version": 2
   },
   "file_extension": ".py",
   "mimetype": "text/x-python",
   "name": "python",
   "nbconvert_exporter": "python",
   "pygments_lexer": "ipython2",
   "version": "2.7.12"
  }
 },
 "nbformat": 4,
 "nbformat_minor": 2
}

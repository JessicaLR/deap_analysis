{
 "cells": [
  {
   "cell_type": "code",
   "execution_count": 62,
   "metadata": {},
   "outputs": [
    {
     "data": {
      "text/plain": [
       "array([ -1.52483604e-05,  -1.73491014e-04,  -6.08622183e-04, ...,\n",
       "        -9.22113630e-04,  -4.44916338e-04,  -1.90518268e-04])"
      ]
     },
     "execution_count": 62,
     "metadata": {},
     "output_type": "execute_result"
    }
   ],
   "source": [
    "import numpy as np\n",
    "import scipy.signal\n",
    "\n",
    "eeg = np.random.uniform(4, 45, 8064)  \n",
    "pi = 3.14\n",
    "y = np.array(eeg)  # faster array\n",
    "L = len(eeg)       # signal length\n",
    "fs = 128.0         # frequency sampling 128Hz\n",
    "T = 1/fs           # sample time\n",
    "t = np.linspace(1,L,L)*T\n",
    "\n",
    "f = fs*np.linspace(0,L/10,L/10)/L  # single side frequency vector, real frequency up to fs/2\n",
    "Y = np.fft.fft(y)\n",
    "\n",
    "filtered = []\n",
    "b= [] # store filter coefficient\n",
    "cutoff = [0.5,4.0,8.0,12.0,30.0] # delta, alpha, theta, beta bands\n",
    "\n",
    "for band in xrange(0, len(cutoff)-1):\n",
    "  wl = 2*cutoff[band]/fs*pi\n",
    "  wh = 2*cutoff[band+1]/fs*pi\n",
    "  M = 512      # Set number of weights as 128\n",
    "  bn = np.zeros(M)\n",
    "\n",
    "  for i in xrange(0,M):     # Generate bandpass weighting function\n",
    "    n = i-  M/2       # Make symmetrical\n",
    "    if n == 0:\n",
    "      bn[i] = wh/pi - wl/pi;\n",
    "    else:\n",
    "      bn[i] = (np.sin(wh*n))/(pi*n) - (np.sin(wl*n))/(pi*n)   # Filter impulse response\n",
    "\n",
    "  bn = bn*np.kaiser(M,5.2)  # apply Kaiser window, alpha= 5.2\n",
    "  b.append(bn)\n",
    "\n",
    "  [w,h]= scipy.signal.freqz(bn,1)\n",
    "  filtered.append(np.convolve(bn, y)) # filter the signal by convolving the signal with filter coefficients\n",
    "\n",
    "(filtered[0])"
   ]
  },
  {
   "cell_type": "code",
   "execution_count": null,
   "metadata": {},
   "outputs": [],
   "source": []
  }
 ],
 "metadata": {
  "kernelspec": {
   "display_name": "Python 2",
   "language": "python",
   "name": "python2"
  },
  "language_info": {
   "codemirror_mode": {
    "name": "ipython",
    "version": 2
   },
   "file_extension": ".py",
   "mimetype": "text/x-python",
   "name": "python",
   "nbconvert_exporter": "python",
   "pygments_lexer": "ipython2",
   "version": "2.7.12"
  }
 },
 "nbformat": 4,
 "nbformat_minor": 2
}
